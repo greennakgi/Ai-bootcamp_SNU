{
 "cells": [
  {
   "cell_type": "code",
   "execution_count": 7,
   "id": "0b3af9d7-ddb0-4566-adc4-e701744585a0",
   "metadata": {
    "scrolled": true,
    "tags": []
   },
   "outputs": [
    {
     "name": "stdout",
     "output_type": "stream",
     "text": [
      "Requirement already satisfied: tensorflow-hub in /opt/conda/envs/tf212_py310/lib/python3.10/site-packages (0.16.1)\n",
      "Requirement already satisfied: numpy>=1.12.0 in /opt/conda/envs/tf212_py310/lib/python3.10/site-packages (from tensorflow-hub) (1.24.3)\n",
      "Requirement already satisfied: protobuf>=3.19.6 in /opt/conda/envs/tf212_py310/lib/python3.10/site-packages (from tensorflow-hub) (3.20.3)\n",
      "Requirement already satisfied: tf-keras>=2.14.1 in /opt/conda/envs/tf212_py310/lib/python3.10/site-packages (from tensorflow-hub) (2.17.0)\n",
      "Requirement already satisfied: tensorflow<2.18,>=2.17 in /opt/conda/envs/tf212_py310/lib/python3.10/site-packages (from tf-keras>=2.14.1->tensorflow-hub) (2.17.0)\n",
      "Requirement already satisfied: absl-py>=1.0.0 in /opt/conda/envs/tf212_py310/lib/python3.10/site-packages (from tensorflow<2.18,>=2.17->tf-keras>=2.14.1->tensorflow-hub) (1.4.0)\n",
      "Requirement already satisfied: astunparse>=1.6.0 in /opt/conda/envs/tf212_py310/lib/python3.10/site-packages (from tensorflow<2.18,>=2.17->tf-keras>=2.14.1->tensorflow-hub) (1.6.3)\n",
      "Requirement already satisfied: flatbuffers>=24.3.25 in /opt/conda/envs/tf212_py310/lib/python3.10/site-packages (from tensorflow<2.18,>=2.17->tf-keras>=2.14.1->tensorflow-hub) (24.3.25)\n",
      "Requirement already satisfied: gast!=0.5.0,!=0.5.1,!=0.5.2,>=0.2.1 in /opt/conda/envs/tf212_py310/lib/python3.10/site-packages (from tensorflow<2.18,>=2.17->tf-keras>=2.14.1->tensorflow-hub) (0.4.0)\n",
      "Requirement already satisfied: google-pasta>=0.1.1 in /opt/conda/envs/tf212_py310/lib/python3.10/site-packages (from tensorflow<2.18,>=2.17->tf-keras>=2.14.1->tensorflow-hub) (0.2.0)\n",
      "Requirement already satisfied: h5py>=3.10.0 in /opt/conda/envs/tf212_py310/lib/python3.10/site-packages (from tensorflow<2.18,>=2.17->tf-keras>=2.14.1->tensorflow-hub) (3.10.0)\n",
      "Requirement already satisfied: libclang>=13.0.0 in /opt/conda/envs/tf212_py310/lib/python3.10/site-packages (from tensorflow<2.18,>=2.17->tf-keras>=2.14.1->tensorflow-hub) (16.0.6)\n",
      "Requirement already satisfied: ml-dtypes<0.5.0,>=0.3.1 in /opt/conda/envs/tf212_py310/lib/python3.10/site-packages (from tensorflow<2.18,>=2.17->tf-keras>=2.14.1->tensorflow-hub) (0.3.2)\n",
      "Requirement already satisfied: opt-einsum>=2.3.2 in /opt/conda/envs/tf212_py310/lib/python3.10/site-packages (from tensorflow<2.18,>=2.17->tf-keras>=2.14.1->tensorflow-hub) (3.3.0)\n",
      "Requirement already satisfied: packaging in /opt/conda/envs/tf212_py310/lib/python3.10/site-packages (from tensorflow<2.18,>=2.17->tf-keras>=2.14.1->tensorflow-hub) (23.2)\n",
      "Requirement already satisfied: requests<3,>=2.21.0 in /opt/conda/envs/tf212_py310/lib/python3.10/site-packages (from tensorflow<2.18,>=2.17->tf-keras>=2.14.1->tensorflow-hub) (2.31.0)\n",
      "Requirement already satisfied: setuptools in /opt/conda/envs/tf212_py310/lib/python3.10/site-packages (from tensorflow<2.18,>=2.17->tf-keras>=2.14.1->tensorflow-hub) (69.1.0)\n",
      "Requirement already satisfied: six>=1.12.0 in /opt/conda/envs/tf212_py310/lib/python3.10/site-packages (from tensorflow<2.18,>=2.17->tf-keras>=2.14.1->tensorflow-hub) (1.16.0)\n",
      "Requirement already satisfied: termcolor>=1.1.0 in /opt/conda/envs/tf212_py310/lib/python3.10/site-packages (from tensorflow<2.18,>=2.17->tf-keras>=2.14.1->tensorflow-hub) (2.4.0)\n",
      "Requirement already satisfied: typing-extensions>=3.6.6 in /opt/conda/envs/tf212_py310/lib/python3.10/site-packages (from tensorflow<2.18,>=2.17->tf-keras>=2.14.1->tensorflow-hub) (4.12.2)\n",
      "Requirement already satisfied: wrapt>=1.11.0 in /opt/conda/envs/tf212_py310/lib/python3.10/site-packages (from tensorflow<2.18,>=2.17->tf-keras>=2.14.1->tensorflow-hub) (1.14.1)\n",
      "Requirement already satisfied: grpcio<2.0,>=1.24.3 in /opt/conda/envs/tf212_py310/lib/python3.10/site-packages (from tensorflow<2.18,>=2.17->tf-keras>=2.14.1->tensorflow-hub) (1.60.1)\n",
      "Requirement already satisfied: tensorboard<2.18,>=2.17 in /opt/conda/envs/tf212_py310/lib/python3.10/site-packages (from tensorflow<2.18,>=2.17->tf-keras>=2.14.1->tensorflow-hub) (2.17.1)\n",
      "Requirement already satisfied: keras>=3.2.0 in /opt/conda/envs/tf212_py310/lib/python3.10/site-packages (from tensorflow<2.18,>=2.17->tf-keras>=2.14.1->tensorflow-hub) (3.5.0)\n",
      "Requirement already satisfied: tensorflow-io-gcs-filesystem>=0.23.1 in /opt/conda/envs/tf212_py310/lib/python3.10/site-packages (from tensorflow<2.18,>=2.17->tf-keras>=2.14.1->tensorflow-hub) (0.36.0)\n",
      "Requirement already satisfied: wheel<1.0,>=0.23.0 in /opt/conda/envs/tf212_py310/lib/python3.10/site-packages (from astunparse>=1.6.0->tensorflow<2.18,>=2.17->tf-keras>=2.14.1->tensorflow-hub) (0.42.0)\n",
      "Requirement already satisfied: rich in /opt/conda/envs/tf212_py310/lib/python3.10/site-packages (from keras>=3.2.0->tensorflow<2.18,>=2.17->tf-keras>=2.14.1->tensorflow-hub) (13.8.0)\n",
      "Requirement already satisfied: namex in /opt/conda/envs/tf212_py310/lib/python3.10/site-packages (from keras>=3.2.0->tensorflow<2.18,>=2.17->tf-keras>=2.14.1->tensorflow-hub) (0.0.8)\n",
      "Requirement already satisfied: optree in /opt/conda/envs/tf212_py310/lib/python3.10/site-packages (from keras>=3.2.0->tensorflow<2.18,>=2.17->tf-keras>=2.14.1->tensorflow-hub) (0.12.1)\n",
      "Requirement already satisfied: charset-normalizer<4,>=2 in /opt/conda/envs/tf212_py310/lib/python3.10/site-packages (from requests<3,>=2.21.0->tensorflow<2.18,>=2.17->tf-keras>=2.14.1->tensorflow-hub) (3.3.2)\n",
      "Requirement already satisfied: idna<4,>=2.5 in /opt/conda/envs/tf212_py310/lib/python3.10/site-packages (from requests<3,>=2.21.0->tensorflow<2.18,>=2.17->tf-keras>=2.14.1->tensorflow-hub) (3.6)\n",
      "Requirement already satisfied: urllib3<3,>=1.21.1 in /opt/conda/envs/tf212_py310/lib/python3.10/site-packages (from requests<3,>=2.21.0->tensorflow<2.18,>=2.17->tf-keras>=2.14.1->tensorflow-hub) (2.2.1)\n",
      "Requirement already satisfied: certifi>=2017.4.17 in /opt/conda/envs/tf212_py310/lib/python3.10/site-packages (from requests<3,>=2.21.0->tensorflow<2.18,>=2.17->tf-keras>=2.14.1->tensorflow-hub) (2024.2.2)\n",
      "Requirement already satisfied: markdown>=2.6.8 in /opt/conda/envs/tf212_py310/lib/python3.10/site-packages (from tensorboard<2.18,>=2.17->tensorflow<2.18,>=2.17->tf-keras>=2.14.1->tensorflow-hub) (3.5.2)\n",
      "Requirement already satisfied: tensorboard-data-server<0.8.0,>=0.7.0 in /opt/conda/envs/tf212_py310/lib/python3.10/site-packages (from tensorboard<2.18,>=2.17->tensorflow<2.18,>=2.17->tf-keras>=2.14.1->tensorflow-hub) (0.7.2)\n",
      "Requirement already satisfied: werkzeug>=1.0.1 in /opt/conda/envs/tf212_py310/lib/python3.10/site-packages (from tensorboard<2.18,>=2.17->tensorflow<2.18,>=2.17->tf-keras>=2.14.1->tensorflow-hub) (3.0.1)\n",
      "Requirement already satisfied: MarkupSafe>=2.1.1 in /opt/conda/envs/tf212_py310/lib/python3.10/site-packages (from werkzeug>=1.0.1->tensorboard<2.18,>=2.17->tensorflow<2.18,>=2.17->tf-keras>=2.14.1->tensorflow-hub) (2.1.5)\n",
      "Requirement already satisfied: markdown-it-py>=2.2.0 in /opt/conda/envs/tf212_py310/lib/python3.10/site-packages (from rich->keras>=3.2.0->tensorflow<2.18,>=2.17->tf-keras>=2.14.1->tensorflow-hub) (3.0.0)\n",
      "Requirement already satisfied: pygments<3.0.0,>=2.13.0 in /opt/conda/envs/tf212_py310/lib/python3.10/site-packages (from rich->keras>=3.2.0->tensorflow<2.18,>=2.17->tf-keras>=2.14.1->tensorflow-hub) (2.17.2)\n",
      "Requirement already satisfied: mdurl~=0.1 in /opt/conda/envs/tf212_py310/lib/python3.10/site-packages (from markdown-it-py>=2.2.0->rich->keras>=3.2.0->tensorflow<2.18,>=2.17->tf-keras>=2.14.1->tensorflow-hub) (0.1.2)\n",
      "\u001b[33mWARNING: Running pip as the 'root' user can result in broken permissions and conflicting behaviour with the system package manager. It is recommended to use a virtual environment instead: https://pip.pypa.io/warnings/venv\u001b[0m\u001b[33m\n",
      "\u001b[0mNote: you may need to restart the kernel to use updated packages.\n"
     ]
    }
   ],
   "source": [
    "pip install tensorflow-hub"
   ]
  },
  {
   "cell_type": "code",
   "execution_count": 5,
   "id": "23c2ca84-cd73-4203-929f-bf5202691f16",
   "metadata": {
    "tags": []
   },
   "outputs": [
    {
     "name": "stdout",
     "output_type": "stream",
     "text": [
      "2.17.0\n"
     ]
    }
   ],
   "source": [
    "import tensorflow as tf\n",
    "import tensorflow_hub as hub\n",
    "import matplotlib.pyplot as plt\n",
    "print(tf.__version__)"
   ]
  },
  {
   "cell_type": "code",
   "execution_count": 6,
   "id": "46ecaa03-8f05-462f-87b2-e08b8d5de678",
   "metadata": {
    "tags": []
   },
   "outputs": [
    {
     "name": "stdout",
     "output_type": "stream",
     "text": [
      "INFO:tensorflow:Assets written to: /tmp/tmp9a7g2pjg/assets\n"
     ]
    },
    {
     "name": "stderr",
     "output_type": "stream",
     "text": [
      "INFO:tensorflow:Assets written to: /tmp/tmp9a7g2pjg/assets\n",
      "W0000 00:00:1724856905.117833 3581062 tf_tfl_flatbuffer_helpers.cc:392] Ignored output_format.\n",
      "W0000 00:00:1724856905.117858 3581062 tf_tfl_flatbuffer_helpers.cc:395] Ignored drop_control_dependency.\n",
      "2024-08-28 14:55:05.118093: I tensorflow/cc/saved_model/reader.cc:83] Reading SavedModel from: /tmp/tmp9a7g2pjg\n",
      "2024-08-28 14:55:05.140315: I tensorflow/cc/saved_model/reader.cc:52] Reading meta graph with tags { serve }\n",
      "2024-08-28 14:55:05.140343: I tensorflow/cc/saved_model/reader.cc:147] Reading SavedModel debug info (if present) from: /tmp/tmp9a7g2pjg\n",
      "2024-08-28 14:55:05.275543: I tensorflow/cc/saved_model/loader.cc:236] Restoring SavedModel bundle.\n",
      "2024-08-28 14:55:05.861817: I tensorflow/cc/saved_model/loader.cc:220] Running initialization op on SavedModel bundle at path: /tmp/tmp9a7g2pjg\n",
      "2024-08-28 14:55:06.069805: I tensorflow/cc/saved_model/loader.cc:462] SavedModel load for tags { serve }; Status: success: OK. Took 951703 microseconds.\n",
      "2024-08-28 14:55:07.437138: I tensorflow/compiler/mlir/lite/flatbuffer_export.cc:3531] Estimated count of arithmetic ops: 382.657 G  ops, equivalently 191.328 G  MACs\n"
     ]
    }
   ],
   "source": [
    "model = hub.load(\"https://tfhub.dev/captain-pool/esrgan-tf2/1\")\n",
    "concrete_func = model.signatures[tf.saved_model.DEFAULT_SERVING_SIGNATURE_DEF_KEY]\n",
    "\n",
    "@tf.function(input_signature=[tf.TensorSpec(shape=[1, 200, 200, 3], dtype=tf.float32)])\n",
    "def f(input):\n",
    "  return concrete_func(input);\n",
    "\n",
    "converter = tf.lite.TFLiteConverter.from_concrete_functions([f.get_concrete_function()], model)\n",
    "converter.optimizations = [tf.lite.Optimize.DEFAULT]\n",
    "tflite_model = converter.convert()\n",
    "\n",
    "# Save the TF Lite model.\n",
    "with tf.io.gfile.GFile('ESRGAN.tflite', 'wb') as f:\n",
    "  f.write(tflite_model)\n",
    "\n",
    "esrgan_model_path = './ESRGAN.tflite'"
   ]
  },
  {
   "cell_type": "code",
   "execution_count": 7,
   "id": "d30befa4-81b9-4a9b-946f-d35a9352f4f8",
   "metadata": {
    "tags": []
   },
   "outputs": [],
   "source": [
    "img_path = 'sr-edge/dataset/div2k/images/DIV2K_train_LR_bicubic/X4/0001x4.png'"
   ]
  },
  {
   "cell_type": "code",
   "execution_count": 8,
   "id": "688f3823-de66-4738-8456-72915ee3606b",
   "metadata": {
    "tags": []
   },
   "outputs": [
    {
     "name": "stderr",
     "output_type": "stream",
     "text": [
      "2024-08-28 14:55:08.102375: W tensorflow/compiler/mlir/tools/kernel_gen/tf_gpu_runtime_wrappers.cc:40] 'cuModuleLoadData(&module, data)' failed with 'CUDA_ERROR_UNSUPPORTED_PTX_VERSION'\n",
      "\n",
      "2024-08-28 14:55:08.102408: W tensorflow/compiler/mlir/tools/kernel_gen/tf_gpu_runtime_wrappers.cc:40] 'cuModuleGetFunction(&function, module, kernel_name)' failed with 'CUDA_ERROR_INVALID_HANDLE'\n",
      "\n",
      "2024-08-28 14:55:08.102419: W tensorflow/core/framework/op_kernel.cc:1828] INTERNAL: 'cuLaunchKernel(function, gridX, gridY, gridZ, blockX, blockY, blockZ, 0, reinterpret_cast<CUstream>(stream), params, nullptr)' failed with 'CUDA_ERROR_INVALID_HANDLE'\n",
      "2024-08-28 14:55:08.102433: I tensorflow/core/framework/local_rendezvous.cc:404] Local rendezvous is aborting with status: INTERNAL: 'cuLaunchKernel(function, gridX, gridY, gridZ, blockX, blockY, blockZ, 0, reinterpret_cast<CUstream>(stream), params, nullptr)' failed with 'CUDA_ERROR_INVALID_HANDLE'\n"
     ]
    },
    {
     "ename": "InternalError",
     "evalue": "{{function_node __wrapped__Cast_device_/job:localhost/replica:0/task:0/device:GPU:0}} 'cuLaunchKernel(function, gridX, gridY, gridZ, blockX, blockY, blockZ, 0, reinterpret_cast<CUstream>(stream), params, nullptr)' failed with 'CUDA_ERROR_INVALID_HANDLE' [Op:Cast] name: ",
     "output_type": "error",
     "traceback": [
      "\u001b[0;31m---------------------------------------------------------------------------\u001b[0m",
      "\u001b[0;31mInternalError\u001b[0m                             Traceback (most recent call last)",
      "Cell \u001b[0;32mIn[8], line 4\u001b[0m\n\u001b[1;32m      2\u001b[0m lr \u001b[38;5;241m=\u001b[39m tf\u001b[38;5;241m.\u001b[39mimage\u001b[38;5;241m.\u001b[39mdecode_jpeg(lr)\n\u001b[1;32m      3\u001b[0m lr \u001b[38;5;241m=\u001b[39m tf\u001b[38;5;241m.\u001b[39mexpand_dims(lr, axis\u001b[38;5;241m=\u001b[39m\u001b[38;5;241m0\u001b[39m)\n\u001b[0;32m----> 4\u001b[0m lr \u001b[38;5;241m=\u001b[39m \u001b[43mtf\u001b[49m\u001b[38;5;241;43m.\u001b[39;49m\u001b[43mcast\u001b[49m\u001b[43m(\u001b[49m\u001b[43mlr\u001b[49m\u001b[43m,\u001b[49m\u001b[43m \u001b[49m\u001b[43mtf\u001b[49m\u001b[38;5;241;43m.\u001b[39;49m\u001b[43mfloat32\u001b[49m\u001b[43m)\u001b[49m\n\u001b[1;32m      6\u001b[0m new_size \u001b[38;5;241m=\u001b[39m [\u001b[38;5;241m200\u001b[39m, \u001b[38;5;241m200\u001b[39m]\n\u001b[1;32m      7\u001b[0m lr \u001b[38;5;241m=\u001b[39m tf\u001b[38;5;241m.\u001b[39mimage\u001b[38;5;241m.\u001b[39mresize(lr, new_size)\n",
      "File \u001b[0;32m/opt/conda/envs/tf212_py310/lib/python3.10/site-packages/tensorflow/python/util/traceback_utils.py:153\u001b[0m, in \u001b[0;36mfilter_traceback.<locals>.error_handler\u001b[0;34m(*args, **kwargs)\u001b[0m\n\u001b[1;32m    151\u001b[0m \u001b[38;5;28;01mexcept\u001b[39;00m \u001b[38;5;167;01mException\u001b[39;00m \u001b[38;5;28;01mas\u001b[39;00m e:\n\u001b[1;32m    152\u001b[0m   filtered_tb \u001b[38;5;241m=\u001b[39m _process_traceback_frames(e\u001b[38;5;241m.\u001b[39m__traceback__)\n\u001b[0;32m--> 153\u001b[0m   \u001b[38;5;28;01mraise\u001b[39;00m e\u001b[38;5;241m.\u001b[39mwith_traceback(filtered_tb) \u001b[38;5;28;01mfrom\u001b[39;00m \u001b[38;5;28;01mNone\u001b[39;00m\n\u001b[1;32m    154\u001b[0m \u001b[38;5;28;01mfinally\u001b[39;00m:\n\u001b[1;32m    155\u001b[0m   \u001b[38;5;28;01mdel\u001b[39;00m filtered_tb\n",
      "File \u001b[0;32m/opt/conda/envs/tf212_py310/lib/python3.10/site-packages/tensorflow/python/framework/ops.py:5983\u001b[0m, in \u001b[0;36mraise_from_not_ok_status\u001b[0;34m(e, name)\u001b[0m\n\u001b[1;32m   5981\u001b[0m \u001b[38;5;28;01mdef\u001b[39;00m \u001b[38;5;21mraise_from_not_ok_status\u001b[39m(e, name) \u001b[38;5;241m-\u001b[39m\u001b[38;5;241m>\u001b[39m NoReturn:\n\u001b[1;32m   5982\u001b[0m   e\u001b[38;5;241m.\u001b[39mmessage \u001b[38;5;241m+\u001b[39m\u001b[38;5;241m=\u001b[39m (\u001b[38;5;124m\"\u001b[39m\u001b[38;5;124m name: \u001b[39m\u001b[38;5;124m\"\u001b[39m \u001b[38;5;241m+\u001b[39m \u001b[38;5;28mstr\u001b[39m(name \u001b[38;5;28;01mif\u001b[39;00m name \u001b[38;5;129;01mis\u001b[39;00m \u001b[38;5;129;01mnot\u001b[39;00m \u001b[38;5;28;01mNone\u001b[39;00m \u001b[38;5;28;01melse\u001b[39;00m \u001b[38;5;124m\"\u001b[39m\u001b[38;5;124m\"\u001b[39m))\n\u001b[0;32m-> 5983\u001b[0m   \u001b[38;5;28;01mraise\u001b[39;00m core\u001b[38;5;241m.\u001b[39m_status_to_exception(e) \u001b[38;5;28;01mfrom\u001b[39;00m \u001b[38;5;28;01mNone\u001b[39;00m\n",
      "\u001b[0;31mInternalError\u001b[0m: {{function_node __wrapped__Cast_device_/job:localhost/replica:0/task:0/device:GPU:0}} 'cuLaunchKernel(function, gridX, gridY, gridZ, blockX, blockY, blockZ, 0, reinterpret_cast<CUstream>(stream), params, nullptr)' failed with 'CUDA_ERROR_INVALID_HANDLE' [Op:Cast] name: "
     ]
    }
   ],
   "source": [
    "lr = tf.io.read_file(img_path)\n",
    "lr = tf.image.decode_jpeg(lr)\n",
    "lr = tf.expand_dims(lr, axis=0)\n",
    "lr = tf.cast(lr, tf.float32)\n",
    "\n",
    "new_size = [200, 200]\n",
    "lr = tf.image.resize(lr, new_size)\n",
    "\n",
    "# Load TFLite model and allocate tensors.\n",
    "interpreter = tf.lite.Interpreter(model_path=esrgan_model_path)\n",
    "interpreter.allocate_tensors()\n",
    "\n",
    "# Get input and output tensors.\n",
    "input_details = interpreter.get_input_details()\n",
    "output_details = interpreter.get_output_details()\n",
    "\n",
    "# Run the model\n",
    "interpreter.set_tensor(input_details[0]['index'], lr)\n",
    "interpreter.invoke()\n",
    "\n",
    "# Extract the output and postprocess it\n",
    "output_data = interpreter.get_tensor(output_details[0]['index'])\n",
    "sr = tf.squeeze(output_data, axis=0)\n",
    "sr = tf.clip_by_value(sr, 0, 255)\n",
    "sr = tf.round(sr)\n",
    "sr = tf.cast(sr, tf.uint8)"
   ]
  },
  {
   "cell_type": "code",
   "execution_count": null,
   "id": "0d27ee0c-aaa3-461b-a8c7-4d61b796564b",
   "metadata": {
    "tags": []
   },
   "outputs": [],
   "source": [
    "lr = tf.cast(tf.squeeze(lr, axis=0), tf.uint8)\n",
    "plt.figure(figsize = (1, 1))\n",
    "plt.title('LR')\n",
    "plt.imshow(lr.numpy());\n",
    "\n",
    "plt.figure(figsize=(10, 4))\n",
    "plt.subplot(1, 2, 1)        \n",
    "plt.title(f'ESRGAN (x4)')\n",
    "plt.imshow(sr.numpy());\n",
    "\n",
    "bicubic = tf.image.resize(lr, [200, 200], tf.image.ResizeMethod.BICUBIC)\n",
    "bicubic = tf.cast(bicubic, tf.uint8)\n",
    "plt.subplot(1, 2, 2)   \n",
    "plt.title('Bicubic')\n",
    "plt.imshow(bicubic.numpy());"
   ]
  },
  {
   "cell_type": "code",
   "execution_count": null,
   "id": "f57955c3-a037-467e-9cbd-77381f78fd02",
   "metadata": {
    "tags": []
   },
   "outputs": [],
   "source": [
    "plt.imshow(sr.numpy())"
   ]
  },
  {
   "cell_type": "code",
   "execution_count": null,
   "id": "0ff2b74a-973f-4798-9586-dfde6c5af0c2",
   "metadata": {
    "tags": []
   },
   "outputs": [],
   "source": [
    "lower_red = np.array([0, 120, 70])\n",
    "upper_red = np.array([10, 255, 255])"
   ]
  },
  {
   "cell_type": "code",
   "execution_count": null,
   "id": "e00f1ef8-b818-431d-93cb-9330afc53119",
   "metadata": {},
   "outputs": [],
   "source": [
    "sr_np = sr.numpy() \n",
    "sr_bgr = cv2.cvtColor(sr_np, cv2.COLOR_RGB2BGR)"
   ]
  },
  {
   "cell_type": "code",
   "execution_count": null,
   "id": "c6c41b42-1d06-4039-b72a-c7e48ed5a5a7",
   "metadata": {
    "tags": []
   },
   "outputs": [],
   "source": [
    "def detect_color(frame):\n",
    "    hsv_frame = cv2.cvtColor(frame, cv2.COLOR_BGR2HSV)\n",
    "    mask_red = cv2.inRange(hsv_frame, lower_red, upper_red)\n",
    "    \n",
    "    contours, _ = cv2.findContours(mask_red, cv2.RETR_TREE, cv2.CHAIN_APPROX_SIMPLE)\n",
    "    for cnt in contours:\n",
    "        area = cv2.contourArea(cnt)\n",
    "        if area > 500: \n",
    "            x, y, w, h = cv2.boundingRect(cnt)\n",
    "            cv2.rectangle(frame, (x, y), (x + w, y + h), (0, 255, 0), 2)\n",
    "            cv2.putText(frame, \"Warning: Red Object Detected!\", (x, y - 10), cv2.FONT_HERSHEY_SIMPLEX, 0.5, (0, 0, 255), 2)\n",
    "            print(\"Warning: Red Object Detected!\")\n",
    "\n",
    "    return frame"
   ]
  },
  {
   "cell_type": "code",
   "execution_count": null,
   "id": "68f6dd4b-c7a7-4e83-939f-64c45e685fec",
   "metadata": {
    "tags": []
   },
   "outputs": [],
   "source": [
    "result_frame = detect_color(sr_bgr)"
   ]
  },
  {
   "cell_type": "code",
   "execution_count": null,
   "id": "8e2010b7-3c23-44fe-a5c3-7d2b7ef91b17",
   "metadata": {
    "tags": []
   },
   "outputs": [],
   "source": [
    "result_rgb = cv2.cvtColor(result_frame, cv2.COLOR_BGR2RGB)\n",
    "pil_img = Image.fromarray(result_rgb)"
   ]
  },
  {
   "cell_type": "code",
   "execution_count": null,
   "id": "b5908040-da0a-41a8-9325-636af8abc540",
   "metadata": {
    "tags": []
   },
   "outputs": [],
   "source": [
    "plt.figure(figsize=(8, 8))\n",
    "plt.title('Processed SR Image with Color Detection')\n",
    "plt.imshow(pil_img)\n",
    "plt.axis('off')\n",
    "plt.show()"
   ]
  },
  {
   "cell_type": "markdown",
   "id": "7ce0aebd-53e1-406d-89bb-4eae571d61eb",
   "metadata": {},
   "source": [
    "## Model Conversion.ipynb(TFLite, Quantize to int8, Compile for Edge TPU, TFLite float32)\n",
    "# https://github.com/PIC4SeR/EdgeSRGAN/blob/master/Model_Conversion.ipynb"
   ]
  },
  {
   "cell_type": "code",
   "execution_count": null,
   "id": "cc0a4d5d-6540-4603-ab55-5bc1c5fcb09a",
   "metadata": {},
   "outputs": [],
   "source": []
  }
 ],
 "metadata": {
  "kernelspec": {
   "display_name": "tf212_py310",
   "language": "python",
   "name": "tf212_py310"
  },
  "language_info": {
   "codemirror_mode": {
    "name": "ipython",
    "version": 3
   },
   "file_extension": ".py",
   "mimetype": "text/x-python",
   "name": "python",
   "nbconvert_exporter": "python",
   "pygments_lexer": "ipython3",
   "version": "3.10.13"
  }
 },
 "nbformat": 4,
 "nbformat_minor": 5
}
