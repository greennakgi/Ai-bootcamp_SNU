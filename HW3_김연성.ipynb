{
  "cells": [
    {
      "cell_type": "markdown",
      "metadata": {
        "id": "_4X9M25jzxef"
      },
      "source": [
        "# | HW3 | MobileNetV2 변형해 보기\n",
        "\n",
        "**Due: 1/16, 11:59 PM**\n",
        "\n",
        "- **채점 기준**\n",
        "  - 아래 과제 설명을 따라야한다.\n",
        "  - test accuracy가 **80% 이상** 나와야 한다.\n",
        "- **제출**\n",
        "  - \"HW3_학번_이름.ipynb\" 형태로 저장하여 Jupyter Notebook을 그대로 제출.\n",
        "    - 예: HW3_2022_12345_keondo.ipynb\n",
        "  - output 지우지 말아 주세요"
      ]
    },
    {
      "cell_type": "markdown",
      "metadata": {
        "id": "CbiOlVdNzxei",
        "scrolled": false
      },
      "source": [
        "---"
      ]
    },
    {
      "cell_type": "markdown",
      "metadata": {
        "id": "zlwfSBH3zxej"
      },
      "source": [
        "`BatchNormalization(axis, momentum, epsilon)` : https://keras.io/api/layers/normalization_layers/batch_normalization/\n",
        "- axis: Batch normalization이 적용될 axis. 우리는 채널에 대해서 BN을 적용할 것이다.\n",
        "- momentum: Moving average에 적용될 momentum 계수\n",
        "- epsilon: 0으로 나누는 것을 방지하기 위한 작은 수.\n",
        "\n",
        "\n",
        "`DepthwiseConv2D(kernel_size, strides, padding, use_bias, depthwise_regularizer)` : https://keras.io/api/layers/convolution_layers/depthwise_convolution2d/"
      ]
    },
    {
      "cell_type": "markdown",
      "metadata": {
        "id": "dbeM7t9Wzxek"
      },
      "source": [
        "paper:[MobileNetV3](https://openaccess.thecvf.com/content_ICCV_2019/papers/Howard_Searching_for_MobileNetV3_ICCV_2019_paper.pdf)  \n",
        "\n",
        "이번 과제에서는 MobileNetV3에서 추가된 내용 중 일부를 반영해 볼 것이다. MobilenetV3에서는 모델의 마지막 부분에 아래 그림과 같은 변화가 있었는데, 요약하자면\n",
        "* Average pooling 앞의 1x1 Convolution layer와 Average pooling layer의 순서를 바꾸어 줌으로써 Computation은 줄이면서 정보의 손실은 최소화하였다.\n",
        "* 위 변화가 일어나게 됨으로써 그 이전 Inverted residual layer에서 projection/filtering을 해 줄 필요가 없어졌다. 따라서 마지막 Inverted residual layer의 Expansion 이후 바로 Average pooling이 오게 된다.\n",
        "* 아래 그림을 보면 더 이해가 쉬울 것이다.\n",
        "<img src=\"https://user-images.githubusercontent.com/37704174/112775642-734f8a80-9078-11eb-9bc1-a860a1fea407.PNG\" width=\"700\" height=\"700\"/>\n",
        "* 마지막 Inverted residual layer는 Original last stage 그림에서 맨 앞 세개이다.\n",
        "\n",
        "\n",
        "<br>\n",
        "위 내용을 참조하여 Network의 마지막 부분을 변형한 MobileNetV2plus를 구성하라. 위 그림상의 H-swish는 고려하지 않아도 된다.\n",
        "<img src=\"https://user-images.githubusercontent.com/37704174/112777027-1229b600-907c-11eb-9f89-a7b61c0843be.PNG\" width=\"700\" height=\"700\"/>  \n",
        "\n",
        "- **채점기준**\n",
        "  - 위의 변경 사항 반영하기\n",
        "    - MobileNetV2에서 마지막 inverted residual block 및 뒷부분을 고치면 됨\n",
        "    - Average pooling의 output의 가로 세로는 1임\n",
        "  - test accuracy **80%** 이상\n",
        "    - BatchNormalization, Activation, Dropout, Regularization, Weight initialization 등 자유롭게 수정, 추가, 제거 가능\n",
        "    - `strides` 수정 가능\n",
        "    - 나머지는 그대로\n"
      ]
    },
    {
      "cell_type": "markdown",
      "metadata": {
        "id": "_zQAEuO1zxek"
      },
      "source": [
        "## Import Modules"
      ]
    },
    {
      "cell_type": "code",
      "execution_count": null,
      "metadata": {
        "id": "PwJ-gqa8zxel",
        "scrolled": false
      },
      "outputs": [],
      "source": [
        "import tensorflow as tf\n",
        "### Q1. Import modules ###\n",
        "import os\n",
        "import numpy as np\n",
        "import matplotlib.pyplot as plt\n",
        "\n",
        "import tensorflow as tf\n",
        "from tensorflow.keras.models import Model\n",
        "from tensorflow.keras.layers import Add, ReLU, Input, Dense, Activation, Flatten, Conv2D, DepthwiseConv2D, BatchNormalization, GlobalAveragePooling2D, Dropout\n",
        "# Import ImageDataGenerator from the correct module\n",
        "from tensorflow.keras.preprocessing.image import ImageDataGenerator\n",
        "from tensorflow.keras.regularizers import l2\n",
        "from tensorflow.keras.optimizers import Adam\n",
        "from tensorflow.keras.optimizers import Nadam\n",
        "from tensorflow.keras import layers, models, initializers, optimizers\n",
        "from tensorflow.keras.optimizers import SGD\n",
        "\n",
        "\n",
        "#########################"
      ]
    },
    {
      "cell_type": "markdown",
      "metadata": {
        "id": "C5-6x854zxem"
      },
      "source": [
        "## Inverted Residual Block\n",
        "\n",
        "- 실습 때 한 것과 동일"
      ]
    },
    {
      "cell_type": "code",
      "execution_count": null,
      "metadata": {
        "id": "KGjTG3kAzxem",
        "scrolled": false
      },
      "outputs": [],
      "source": [
        "def _inverted_res_block(inputs, expansion, filters, strides):\n",
        "    x = inputs\n",
        "    in_chnls = inputs.shape[-1]\n",
        "    # Expansion\n",
        "    if expansion != 1:\n",
        "        x = Conv2D(kernel_size=1, filters=in_chnls * expansion, strides=1, padding='same', use_bias=False, kernel_regularizer=l2(4e-5))(x)\n",
        "        x = BatchNormalization(momentum=0.999, epsilon=0.001)(x)\n",
        "        x = ReLU(max_value=6)(x)\n",
        "\n",
        "    # Depthwise convolution\n",
        "    x = DepthwiseConv2D(kernel_size=3, strides=strides, padding='same', use_bias=False, depthwise_regularizer=l2(4e-5))(x)\n",
        "    x = BatchNormalization(momentum=0.999, epsilon=0.001)(x)\n",
        "    x = ReLU(max_value=6)(x)\n",
        "\n",
        "    # Linear bottleneck\n",
        "    x = Conv2D(kernel_size=1, filters=filters, strides=1, padding='same', use_bias=False, kernel_regularizer=l2(4e-5))(x)\n",
        "    x = BatchNormalization(momentum=0.999, epsilon=0.001)(x)\n",
        "    # No activation\n",
        "\n",
        "    # Residual connection\n",
        "    if in_chnls == filters and strides == 1:\n",
        "        x = Add()([inputs, x])\n",
        "\n",
        "    return x #return output of layer"
      ]
    },
    {
      "cell_type": "markdown",
      "metadata": {
        "id": "VBNLdmgTzxen"
      },
      "source": [
        "## MobileNetV2 변형 구현"
      ]
    },
    {
      "cell_type": "code",
      "execution_count": null,
      "metadata": {
        "id": "5TkdqcFRzxen",
        "scrolled": false
      },
      "outputs": [],
      "source": [
        "def MobileNetV2plus(input_shape, classes):\n",
        "    inputs = Input(shape=input_shape)\n",
        "\n",
        "    ### Q2. Modify MobileNetV2 ###\n",
        "    x=tf.keras.layers.Conv2D(32, 3, strides=2, padding='same',kernel_regularizer=l2(4e-5))(inputs)\n",
        "    x=tf.keras.layers.BatchNormalization(momentum=0.999,epsilon=0.001)(x)\n",
        "    x=tf.keras.layers.ReLU(max_value=6)(x)\n",
        "\n",
        "    x=_inverted_res_block(inputs=x, expansion=1, filters=16, strides=1)\n",
        "    x=_inverted_res_block(inputs=x, expansion=6, filters=24, strides=2)\n",
        "    x=_inverted_res_block(inputs=x, expansion=6, filters=24, strides=1)\n",
        "    x=_inverted_res_block(inputs=x, expansion=6, filters=32, strides=2)\n",
        "    x=_inverted_res_block(inputs=x, expansion=6, filters=32, strides=1)\n",
        "    x=_inverted_res_block(inputs=x, expansion=6, filters=32, strides=1)\n",
        "    x=_inverted_res_block(inputs=x, expansion=6, filters=64, strides=2)\n",
        "    x=_inverted_res_block(inputs=x, expansion=6, filters=64, strides=1)\n",
        "    x=_inverted_res_block(inputs=x, expansion=6, filters=64, strides=1)\n",
        "    x=_inverted_res_block(inputs=x, expansion=6, filters=64, strides=1)\n",
        "    x=_inverted_res_block(inputs=x, expansion=6, filters=96, strides=1)\n",
        "    x=_inverted_res_block(inputs=x, expansion=6, filters=96, strides=1)\n",
        "    x=_inverted_res_block(inputs=x, expansion=6, filters=96, strides=1)\n",
        "    x=_inverted_res_block(inputs=x, expansion=6, filters=160, strides=2)\n",
        "    x=_inverted_res_block(inputs=x, expansion=6, filters=160, strides=1)\n",
        "    x=_inverted_res_block(inputs=x, expansion=6, filters=160, strides=1)\n",
        "    x=Dropout(0.2)(x)\n",
        "    x=tf.keras.layers.Conv2D( filters=320,kernel_size=1, strides=1, padding='same', use_bias=False, kernel_regularizer=l2(4e-5),\n",
        "                            kernel_initializer=initializers.GlorotNormal(),\n",
        "                            bias_initializer='zeros')(x)\n",
        "    x=tf.keras.layers.BatchNormalization(momentum=0.999,epsilon=0.001)(x)\n",
        "    x=tf.keras.layers.ReLU(max_value=6)(x)\n",
        "\n",
        "    x = GlobalAveragePooling2D()(x)\n",
        "    #x = Reshape((1, 1, 320))(x)\n",
        "    #x=tf.keras.layers.Conv2D(1,1280 ,strides=2, padding='same')(x)\n",
        "    x = Flatten()(x)\n",
        "    x = Dense(1280, activation='relu', kernel_regularizer=l2(4e-5),\n",
        "                            kernel_initializer=initializers.GlorotNormal(),\n",
        "                            bias_initializer='zeros')(x)\n",
        "    x = Dropout(0.3)(x)\n",
        "\n",
        "    outputs = Dense(classes, activation='softmax')(x)\n",
        "    ##############################\n",
        "\n",
        "    return Model(inputs=inputs, outputs=outputs)\n"
      ]
    },
    {
      "cell_type": "code",
      "execution_count": null,
      "metadata": {
        "id": "1LvkStJhzxeo",
        "scrolled": false
      },
      "outputs": [],
      "source": [
        "my_mobilenet = MobileNetV2plus((32,32,3),classes=10)"
      ]
    },
    {
      "cell_type": "markdown",
      "metadata": {
        "id": "O69GTfOTzxeo"
      },
      "source": [
        "## Training Data\n",
        "\n",
        "- keras dataset 혹은 tensorflow dataset 이용\n",
        "- train data를 9:1로 나눠서 validation data로 이용"
      ]
    },
    {
      "cell_type": "code",
      "execution_count": null,
      "metadata": {
        "id": "azOxenuyzxep",
        "scrolled": false
      },
      "outputs": [],
      "source": [
        "from tensorflow.keras.datasets import cifar10\n",
        "#Load data\n",
        "(x_train, y_train), (x_test, y_test) = cifar10.load_data()\n",
        "\n",
        "#Split train set into train/valid set\n",
        "from sklearn import model_selection\n",
        "x_train, x_valid, y_train, y_valid = model_selection.train_test_split(x_train, y_train,test_size=0.1)"
      ]
    },
    {
      "cell_type": "markdown",
      "metadata": {
        "id": "v1R87-fgzxep"
      },
      "source": [
        "## Data Preprocessing\n",
        "자유롭게 전처리"
      ]
    },
    {
      "cell_type": "code",
      "execution_count": null,
      "metadata": {
        "id": "ZYETZHz1zxep",
        "scrolled": false
      },
      "outputs": [],
      "source": [
        "### Q3. Preporcessing ###\n",
        "x_train = x_train.astype('float32') / 255.0\n",
        "x_valid = x_valid.astype('float32') / 255.0\n",
        "x_test = x_test.astype('float32') / 255.0\n",
        "class_names = ['airplane', 'automobile', 'bird', 'cat', 'deer',\n",
        "               'dog', 'frog', 'horse', 'ship', 'truck']\n",
        "\n",
        "#########################"
      ]
    },
    {
      "cell_type": "markdown",
      "metadata": {
        "id": "z6BOLhxLzxep"
      },
      "source": [
        "## Model Compile\n",
        "loss function, optimizer 설정"
      ]
    },
    {
      "cell_type": "code",
      "execution_count": null,
      "metadata": {
        "id": "5kti2fkFzxep",
        "scrolled": false
      },
      "outputs": [],
      "source": [
        "### Q4. Model compile ###\n",
        "my_mobilenet.compile(optimizer = SGD(learning_rate=0.01, momentum=0.9), loss=\"sparse_categorical_crossentropy\", metrics=['accuracy'])\n",
        "\n",
        "#########################"
      ]
    },
    {
      "cell_type": "code",
      "execution_count": null,
      "metadata": {
        "id": "DSOCZ5ctzxeq",
        "scrolled": false
      },
      "outputs": [],
      "source": [
        "### Q5. Callbacks ###\n",
        "callbacks = []\n",
        "#callbacks.append(tf.keras.callbacks.TensorBoard(log_dir=log_dir, histogram_freq=1))\n",
        "callbacks.append(tf.keras.callbacks.EarlyStopping(\n",
        "    monitor='val_loss',\n",
        "    patience=10,\n",
        "    verbose=1,\n",
        "    restore_best_weights=True\n",
        "))\n",
        "callbacks.append(tf.keras.callbacks.ReduceLROnPlateau(\n",
        "    monitor='val_loss',\n",
        "    factor=0.1,\n",
        "    patience=5,\n",
        "    verbose=1\n",
        "))\n",
        "#####################"
      ]
    },
    {
      "cell_type": "markdown",
      "metadata": {
        "id": "z2w6KyPvzxeq"
      },
      "source": [
        "## Model Training\n",
        "hyperparameter를 적절히 설정한다. (epochs 등..)"
      ]
    },
    {
      "cell_type": "code",
      "execution_count": null,
      "metadata": {
        "id": "3nOCP5xxzxeq",
        "scrolled": false
      },
      "outputs": [],
      "source": [
        "### Q6. Training ###\n",
        "history = my_mobilenet.fit(x_train, y_train, batch_size=32,\n",
        "                          epochs=50,\n",
        "                          callbacks=callbacks,\n",
        "                          validation_data=(x_valid, y_valid))\n",
        "\n"
      ]
    },
    {
      "cell_type": "code",
      "source": [],
      "metadata": {
        "id": "OhJWq0qyDDQs"
      },
      "execution_count": null,
      "outputs": []
    },
    {
      "cell_type": "markdown",
      "metadata": {
        "id": "7WzvdkTkzxeq"
      },
      "source": [
        "## 참고용\n",
        "조교가 학습한 모델의 validation accuracy를 그래프로 나타내 보았다."
      ]
    },
    {
      "cell_type": "code",
      "execution_count": null,
      "metadata": {
        "id": "rcd2exS-zxeq",
        "scrolled": false
      },
      "outputs": [],
      "source": [
        "import matplotlib.pyplot as plt\n",
        "\n",
        "plt.plot(history.history['val_accuracy'])\n",
        "plt.title('Validation Accuracy', fontsize=15)\n",
        "plt.xlabel('epochs', fontsize=15)\n",
        "plt.ylabel('Acc.', fontsize=15)\n",
        "\n",
        "plt.show()"
      ]
    },
    {
      "cell_type": "markdown",
      "metadata": {
        "id": "uLf12NSyzxer"
      },
      "source": [
        "## Test Accuracy\n",
        "\n",
        "test accuracy 측정 결과 **80% 이상**이 나와야 한다."
      ]
    },
    {
      "cell_type": "code",
      "execution_count": null,
      "metadata": {
        "id": "6TZdoqT9zxer",
        "scrolled": false
      },
      "outputs": [],
      "source": [
        "my_mobilenet.evaluate(x_test,y_test)"
      ]
    }
  ],
  "metadata": {
    "colab": {
      "provenance": []
    },
    "kernelspec": {
      "display_name": "Python 3 (ipykernel)",
      "language": "python",
      "name": "python3"
    },
    "language_info": {
      "codemirror_mode": {
        "name": "ipython",
        "version": 3
      },
      "file_extension": ".py",
      "mimetype": "text/x-python",
      "name": "python",
      "nbconvert_exporter": "python",
      "pygments_lexer": "ipython3",
      "version": "3.8.13"
    }
  },
  "nbformat": 4,
  "nbformat_minor": 0
}